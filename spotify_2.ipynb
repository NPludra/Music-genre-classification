{
 "cells": [
  {
   "cell_type": "code",
   "execution_count": 1,
   "metadata": {},
   "outputs": [
    {
     "name": "stderr",
     "output_type": "stream",
     "text": [
      "c:\\Users\\natal\\AppData\\Local\\Programs\\Python\\Python310\\lib\\site-packages\\tqdm\\auto.py:21: TqdmWarning: IProgress not found. Please update jupyter and ipywidgets. See https://ipywidgets.readthedocs.io/en/stable/user_install.html\n",
      "  from .autonotebook import tqdm as notebook_tqdm\n"
     ]
    }
   ],
   "source": [
    "import pandas as pd\n",
    "import numpy as np\n",
    "import matplotlib.pyplot as plt\n",
    "import seaborn as sns\n",
    "from sklearn.model_selection import train_test_split, GridSearchCV\n",
    "\n",
    "from sklearn.neighbors import KNeighborsClassifier\n",
    "from sklearn.metrics import accuracy_score\n",
    "from tqdm.auto import tqdm\n",
    "from sklearn.naive_bayes import GaussianNB\n",
    "from sklearn.tree import DecisionTreeClassifier\n",
    "from sklearn.ensemble import RandomForestClassifier\n",
    "from sklearn import svm\n",
    "from sklearn.model_selection import cross_val_score\n"
   ]
  },
  {
   "cell_type": "code",
   "execution_count": 2,
   "metadata": {},
   "outputs": [
    {
     "name": "stdout",
     "output_type": "stream",
     "text": [
      "<class 'pandas.core.frame.DataFrame'>\n",
      "RangeIndex: 32833 entries, 0 to 32832\n",
      "Data columns (total 13 columns):\n",
      " #   Column            Non-Null Count  Dtype  \n",
      "---  ------            --------------  -----  \n",
      " 0   playlist_genre    32833 non-null  object \n",
      " 1   danceability      32833 non-null  float64\n",
      " 2   energy            32833 non-null  float64\n",
      " 3   key               32833 non-null  int64  \n",
      " 4   loudness          32833 non-null  float64\n",
      " 5   mode              32833 non-null  int64  \n",
      " 6   speechiness       32833 non-null  float64\n",
      " 7   acousticness      32833 non-null  float64\n",
      " 8   instrumentalness  32833 non-null  float64\n",
      " 9   liveness          32833 non-null  float64\n",
      " 10  valence           32833 non-null  float64\n",
      " 11  tempo             32833 non-null  float64\n",
      " 12  duration_ms       32833 non-null  int64  \n",
      "dtypes: float64(9), int64(3), object(1)\n",
      "memory usage: 3.3+ MB\n",
      "None\n"
     ]
    }
   ],
   "source": [
    "df = pd.read_csv('input/spotify_songs.csv', sep=',')\n",
    "\n",
    "songs = df[['playlist_genre', 'danceability', 'energy', 'key', 'loudness', 'mode', 'speechiness', 'acousticness', 'instrumentalness', 'liveness', 'valence', 'tempo', 'duration_ms']]\n",
    "print(songs.info())\n"
   ]
  },
  {
   "cell_type": "code",
   "execution_count": 21,
   "metadata": {},
   "outputs": [
    {
     "data": {
      "text/html": [
       "<div>\n",
       "<style scoped>\n",
       "    .dataframe tbody tr th:only-of-type {\n",
       "        vertical-align: middle;\n",
       "    }\n",
       "\n",
       "    .dataframe tbody tr th {\n",
       "        vertical-align: top;\n",
       "    }\n",
       "\n",
       "    .dataframe thead th {\n",
       "        text-align: right;\n",
       "    }\n",
       "</style>\n",
       "<table border=\"1\" class=\"dataframe\">\n",
       "  <thead>\n",
       "    <tr style=\"text-align: right;\">\n",
       "      <th></th>\n",
       "      <th>danceability</th>\n",
       "      <th>energy</th>\n",
       "      <th>key</th>\n",
       "      <th>loudness</th>\n",
       "      <th>mode</th>\n",
       "      <th>speechiness</th>\n",
       "      <th>acousticness</th>\n",
       "      <th>instrumentalness</th>\n",
       "      <th>liveness</th>\n",
       "      <th>valence</th>\n",
       "      <th>tempo</th>\n",
       "      <th>duration_ms</th>\n",
       "    </tr>\n",
       "  </thead>\n",
       "  <tbody>\n",
       "    <tr>\n",
       "      <th>count</th>\n",
       "      <td>32833.000000</td>\n",
       "      <td>32833.000000</td>\n",
       "      <td>32833.000000</td>\n",
       "      <td>32833.000000</td>\n",
       "      <td>32833.000000</td>\n",
       "      <td>32833.000000</td>\n",
       "      <td>32833.000000</td>\n",
       "      <td>32833.000000</td>\n",
       "      <td>32833.000000</td>\n",
       "      <td>32833.000000</td>\n",
       "      <td>32833.000000</td>\n",
       "      <td>32833.000000</td>\n",
       "    </tr>\n",
       "    <tr>\n",
       "      <th>mean</th>\n",
       "      <td>0.654850</td>\n",
       "      <td>0.698619</td>\n",
       "      <td>5.374471</td>\n",
       "      <td>-6.719499</td>\n",
       "      <td>0.565711</td>\n",
       "      <td>0.107068</td>\n",
       "      <td>0.175334</td>\n",
       "      <td>0.084747</td>\n",
       "      <td>0.190176</td>\n",
       "      <td>0.510561</td>\n",
       "      <td>120.881132</td>\n",
       "      <td>225799.811622</td>\n",
       "    </tr>\n",
       "    <tr>\n",
       "      <th>std</th>\n",
       "      <td>0.145085</td>\n",
       "      <td>0.180910</td>\n",
       "      <td>3.611657</td>\n",
       "      <td>2.988436</td>\n",
       "      <td>0.495671</td>\n",
       "      <td>0.101314</td>\n",
       "      <td>0.219633</td>\n",
       "      <td>0.224230</td>\n",
       "      <td>0.154317</td>\n",
       "      <td>0.233146</td>\n",
       "      <td>26.903624</td>\n",
       "      <td>59834.006182</td>\n",
       "    </tr>\n",
       "    <tr>\n",
       "      <th>min</th>\n",
       "      <td>0.000000</td>\n",
       "      <td>0.000175</td>\n",
       "      <td>0.000000</td>\n",
       "      <td>-46.448000</td>\n",
       "      <td>0.000000</td>\n",
       "      <td>0.000000</td>\n",
       "      <td>0.000000</td>\n",
       "      <td>0.000000</td>\n",
       "      <td>0.000000</td>\n",
       "      <td>0.000000</td>\n",
       "      <td>0.000000</td>\n",
       "      <td>4000.000000</td>\n",
       "    </tr>\n",
       "    <tr>\n",
       "      <th>25%</th>\n",
       "      <td>0.563000</td>\n",
       "      <td>0.581000</td>\n",
       "      <td>2.000000</td>\n",
       "      <td>-8.171000</td>\n",
       "      <td>0.000000</td>\n",
       "      <td>0.041000</td>\n",
       "      <td>0.015100</td>\n",
       "      <td>0.000000</td>\n",
       "      <td>0.092700</td>\n",
       "      <td>0.331000</td>\n",
       "      <td>99.960000</td>\n",
       "      <td>187819.000000</td>\n",
       "    </tr>\n",
       "    <tr>\n",
       "      <th>50%</th>\n",
       "      <td>0.672000</td>\n",
       "      <td>0.721000</td>\n",
       "      <td>6.000000</td>\n",
       "      <td>-6.166000</td>\n",
       "      <td>1.000000</td>\n",
       "      <td>0.062500</td>\n",
       "      <td>0.080400</td>\n",
       "      <td>0.000016</td>\n",
       "      <td>0.127000</td>\n",
       "      <td>0.512000</td>\n",
       "      <td>121.984000</td>\n",
       "      <td>216000.000000</td>\n",
       "    </tr>\n",
       "    <tr>\n",
       "      <th>75%</th>\n",
       "      <td>0.761000</td>\n",
       "      <td>0.840000</td>\n",
       "      <td>9.000000</td>\n",
       "      <td>-4.645000</td>\n",
       "      <td>1.000000</td>\n",
       "      <td>0.132000</td>\n",
       "      <td>0.255000</td>\n",
       "      <td>0.004830</td>\n",
       "      <td>0.248000</td>\n",
       "      <td>0.693000</td>\n",
       "      <td>133.918000</td>\n",
       "      <td>253585.000000</td>\n",
       "    </tr>\n",
       "    <tr>\n",
       "      <th>max</th>\n",
       "      <td>0.983000</td>\n",
       "      <td>1.000000</td>\n",
       "      <td>11.000000</td>\n",
       "      <td>1.275000</td>\n",
       "      <td>1.000000</td>\n",
       "      <td>0.918000</td>\n",
       "      <td>0.994000</td>\n",
       "      <td>0.994000</td>\n",
       "      <td>0.996000</td>\n",
       "      <td>0.991000</td>\n",
       "      <td>239.440000</td>\n",
       "      <td>517810.000000</td>\n",
       "    </tr>\n",
       "  </tbody>\n",
       "</table>\n",
       "</div>"
      ],
      "text/plain": [
       "       danceability        energy           key      loudness          mode  \\\n",
       "count  32833.000000  32833.000000  32833.000000  32833.000000  32833.000000   \n",
       "mean       0.654850      0.698619      5.374471     -6.719499      0.565711   \n",
       "std        0.145085      0.180910      3.611657      2.988436      0.495671   \n",
       "min        0.000000      0.000175      0.000000    -46.448000      0.000000   \n",
       "25%        0.563000      0.581000      2.000000     -8.171000      0.000000   \n",
       "50%        0.672000      0.721000      6.000000     -6.166000      1.000000   \n",
       "75%        0.761000      0.840000      9.000000     -4.645000      1.000000   \n",
       "max        0.983000      1.000000     11.000000      1.275000      1.000000   \n",
       "\n",
       "        speechiness  acousticness  instrumentalness      liveness  \\\n",
       "count  32833.000000  32833.000000      32833.000000  32833.000000   \n",
       "mean       0.107068      0.175334          0.084747      0.190176   \n",
       "std        0.101314      0.219633          0.224230      0.154317   \n",
       "min        0.000000      0.000000          0.000000      0.000000   \n",
       "25%        0.041000      0.015100          0.000000      0.092700   \n",
       "50%        0.062500      0.080400          0.000016      0.127000   \n",
       "75%        0.132000      0.255000          0.004830      0.248000   \n",
       "max        0.918000      0.994000          0.994000      0.996000   \n",
       "\n",
       "            valence         tempo    duration_ms  \n",
       "count  32833.000000  32833.000000   32833.000000  \n",
       "mean       0.510561    120.881132  225799.811622  \n",
       "std        0.233146     26.903624   59834.006182  \n",
       "min        0.000000      0.000000    4000.000000  \n",
       "25%        0.331000     99.960000  187819.000000  \n",
       "50%        0.512000    121.984000  216000.000000  \n",
       "75%        0.693000    133.918000  253585.000000  \n",
       "max        0.991000    239.440000  517810.000000  "
      ]
     },
     "execution_count": 21,
     "metadata": {},
     "output_type": "execute_result"
    }
   ],
   "source": [
    "songs.describe()"
   ]
  },
  {
   "cell_type": "code",
   "execution_count": 3,
   "metadata": {},
   "outputs": [
    {
     "name": "stdout",
     "output_type": "stream",
     "text": [
      "Number of duplicate rows:  3041\n"
     ]
    }
   ],
   "source": [
    "# Remove duplicates\n",
    "duplicates = songs.duplicated()\n",
    "print(\"Number of duplicate rows: \", duplicates.sum())\n",
    "\n",
    "songs = songs.drop_duplicates()\n"
   ]
  },
  {
   "cell_type": "code",
   "execution_count": 23,
   "metadata": {},
   "outputs": [
    {
     "name": "stdout",
     "output_type": "stream",
     "text": [
      "Total number of songs:  29792\n",
      "playlist_genre\n",
      "rap      5433\n",
      "edm      5400\n",
      "r&b      5041\n",
      "pop      5012\n",
      "latin    4578\n",
      "rock     4328\n",
      "Name: count, dtype: int64\n"
     ]
    }
   ],
   "source": [
    "print(\"Total number of songs: \", len(songs))\n",
    "print(songs['playlist_genre'].value_counts())"
   ]
  },
  {
   "cell_type": "code",
   "execution_count": 4,
   "metadata": {},
   "outputs": [],
   "source": [
    "min = songs['playlist_genre'].value_counts().min()\n",
    "# Take only min songs from each genre\n",
    "songs = songs.groupby('playlist_genre').head(min)"
   ]
  },
  {
   "cell_type": "code",
   "execution_count": 5,
   "metadata": {},
   "outputs": [
    {
     "data": {
      "text/plain": [
       "{'pop': 0, 'rap': 1, 'rock': 2, 'latin': 3, 'r&b': 4, 'edm': 5}"
      ]
     },
     "execution_count": 5,
     "metadata": {},
     "output_type": "execute_result"
    }
   ],
   "source": [
    "map_genres = {genre: i for i, genre in enumerate(songs['playlist_genre'].unique())}\n",
    "map_genres "
   ]
  },
  {
   "cell_type": "code",
   "execution_count": 6,
   "metadata": {},
   "outputs": [
    {
     "name": "stdout",
     "output_type": "stream",
     "text": [
      "Training set size:  18177\n",
      "Test set size:  3895\n",
      "Validation set size:  3896\n"
     ]
    }
   ],
   "source": [
    "songs_data = songs.drop('playlist_genre', axis=1)\n",
    "songs_target = songs['playlist_genre']\n",
    "songs_target = songs_target.map(map_genres)\n",
    "\n",
    "# Normalize data to 0-1 range\n",
    "songs_data = (songs_data - songs_data.min()) / (songs_data.max() - songs_data.min())\n",
    "\n",
    "songs_data_train, songs_data_test, songs_target_train, songs_target_test = train_test_split(songs_data, songs_target, test_size=0.3, random_state=0)\n",
    "songs_data_test, songs_data_val, songs_target_test, songs_target_val = train_test_split(songs_data_test, songs_target_test, test_size=0.5, random_state=0)\n",
    "\n",
    "print(\"Training set size: \", len(songs_data_train))\n",
    "print(\"Test set size: \", len(songs_data_test))\n",
    "print(\"Validation set size: \", len(songs_data_val))"
   ]
  },
  {
   "cell_type": "code",
   "execution_count": 7,
   "metadata": {},
   "outputs": [
    {
     "name": "stdout",
     "output_type": "stream",
     "text": [
      "Training set size:  18177\n",
      "Test set size:  7791\n"
     ]
    }
   ],
   "source": [
    "# only train-test split (for cross validation)\n",
    "songs_data_train2, songs_data_test2, songs_target_train2, songs_target_test2 = train_test_split(songs_data, songs_target, test_size=0.3, random_state=0)\n",
    "\n",
    "print(\"Training set size: \", len(songs_data_train2))\n",
    "print(\"Test set size: \", len(songs_data_test2))"
   ]
  },
  {
   "cell_type": "markdown",
   "metadata": {},
   "source": [
    "# Models"
   ]
  },
  {
   "cell_type": "markdown",
   "metadata": {},
   "source": [
    "## KNeighborsClassifier"
   ]
  },
  {
   "cell_type": "code",
   "execution_count": 8,
   "metadata": {},
   "outputs": [
    {
     "name": "stderr",
     "output_type": "stream",
     "text": [
      "  0%|          | 0/34 [00:00<?, ?it/s]"
     ]
    },
    {
     "name": "stderr",
     "output_type": "stream",
     "text": [
      "100%|██████████| 34/34 [00:47<00:00,  1.40s/it]\n"
     ]
    },
    {
     "data": {
      "text/html": [
       "<div>\n",
       "<style scoped>\n",
       "    .dataframe tbody tr th:only-of-type {\n",
       "        vertical-align: middle;\n",
       "    }\n",
       "\n",
       "    .dataframe tbody tr th {\n",
       "        vertical-align: top;\n",
       "    }\n",
       "\n",
       "    .dataframe thead th {\n",
       "        text-align: right;\n",
       "    }\n",
       "</style>\n",
       "<table border=\"1\" class=\"dataframe\">\n",
       "  <thead>\n",
       "    <tr style=\"text-align: right;\">\n",
       "      <th></th>\n",
       "      <th>k</th>\n",
       "      <th>accuracy</th>\n",
       "    </tr>\n",
       "  </thead>\n",
       "  <tbody>\n",
       "    <tr>\n",
       "      <th>14</th>\n",
       "      <td>15</td>\n",
       "      <td>0.457136</td>\n",
       "    </tr>\n",
       "    <tr>\n",
       "      <th>24</th>\n",
       "      <td>25</td>\n",
       "      <td>0.457136</td>\n",
       "    </tr>\n",
       "    <tr>\n",
       "      <th>32</th>\n",
       "      <td>33</td>\n",
       "      <td>0.456879</td>\n",
       "    </tr>\n",
       "    <tr>\n",
       "      <th>26</th>\n",
       "      <td>27</td>\n",
       "      <td>0.456879</td>\n",
       "    </tr>\n",
       "    <tr>\n",
       "      <th>18</th>\n",
       "      <td>19</td>\n",
       "      <td>0.456366</td>\n",
       "    </tr>\n",
       "    <tr>\n",
       "      <th>25</th>\n",
       "      <td>26</td>\n",
       "      <td>0.455339</td>\n",
       "    </tr>\n",
       "    <tr>\n",
       "      <th>27</th>\n",
       "      <td>28</td>\n",
       "      <td>0.454569</td>\n",
       "    </tr>\n",
       "    <tr>\n",
       "      <th>28</th>\n",
       "      <td>29</td>\n",
       "      <td>0.453542</td>\n",
       "    </tr>\n",
       "    <tr>\n",
       "      <th>17</th>\n",
       "      <td>18</td>\n",
       "      <td>0.453029</td>\n",
       "    </tr>\n",
       "    <tr>\n",
       "      <th>30</th>\n",
       "      <td>31</td>\n",
       "      <td>0.453029</td>\n",
       "    </tr>\n",
       "    <tr>\n",
       "      <th>29</th>\n",
       "      <td>30</td>\n",
       "      <td>0.452772</td>\n",
       "    </tr>\n",
       "    <tr>\n",
       "      <th>33</th>\n",
       "      <td>34</td>\n",
       "      <td>0.452515</td>\n",
       "    </tr>\n",
       "    <tr>\n",
       "      <th>19</th>\n",
       "      <td>20</td>\n",
       "      <td>0.452002</td>\n",
       "    </tr>\n",
       "    <tr>\n",
       "      <th>15</th>\n",
       "      <td>16</td>\n",
       "      <td>0.451745</td>\n",
       "    </tr>\n",
       "    <tr>\n",
       "      <th>23</th>\n",
       "      <td>24</td>\n",
       "      <td>0.451232</td>\n",
       "    </tr>\n",
       "    <tr>\n",
       "      <th>16</th>\n",
       "      <td>17</td>\n",
       "      <td>0.451232</td>\n",
       "    </tr>\n",
       "    <tr>\n",
       "      <th>20</th>\n",
       "      <td>21</td>\n",
       "      <td>0.450975</td>\n",
       "    </tr>\n",
       "    <tr>\n",
       "      <th>21</th>\n",
       "      <td>22</td>\n",
       "      <td>0.449949</td>\n",
       "    </tr>\n",
       "    <tr>\n",
       "      <th>13</th>\n",
       "      <td>14</td>\n",
       "      <td>0.449692</td>\n",
       "    </tr>\n",
       "    <tr>\n",
       "      <th>12</th>\n",
       "      <td>13</td>\n",
       "      <td>0.449692</td>\n",
       "    </tr>\n",
       "    <tr>\n",
       "      <th>31</th>\n",
       "      <td>32</td>\n",
       "      <td>0.448665</td>\n",
       "    </tr>\n",
       "    <tr>\n",
       "      <th>22</th>\n",
       "      <td>23</td>\n",
       "      <td>0.448409</td>\n",
       "    </tr>\n",
       "    <tr>\n",
       "      <th>11</th>\n",
       "      <td>12</td>\n",
       "      <td>0.446612</td>\n",
       "    </tr>\n",
       "    <tr>\n",
       "      <th>8</th>\n",
       "      <td>9</td>\n",
       "      <td>0.439168</td>\n",
       "    </tr>\n",
       "    <tr>\n",
       "      <th>9</th>\n",
       "      <td>10</td>\n",
       "      <td>0.437372</td>\n",
       "    </tr>\n",
       "    <tr>\n",
       "      <th>10</th>\n",
       "      <td>11</td>\n",
       "      <td>0.436602</td>\n",
       "    </tr>\n",
       "    <tr>\n",
       "      <th>5</th>\n",
       "      <td>6</td>\n",
       "      <td>0.432752</td>\n",
       "    </tr>\n",
       "    <tr>\n",
       "      <th>6</th>\n",
       "      <td>7</td>\n",
       "      <td>0.431468</td>\n",
       "    </tr>\n",
       "    <tr>\n",
       "      <th>7</th>\n",
       "      <td>8</td>\n",
       "      <td>0.428645</td>\n",
       "    </tr>\n",
       "    <tr>\n",
       "      <th>4</th>\n",
       "      <td>5</td>\n",
       "      <td>0.420175</td>\n",
       "    </tr>\n",
       "    <tr>\n",
       "      <th>3</th>\n",
       "      <td>4</td>\n",
       "      <td>0.408111</td>\n",
       "    </tr>\n",
       "    <tr>\n",
       "      <th>2</th>\n",
       "      <td>3</td>\n",
       "      <td>0.396561</td>\n",
       "    </tr>\n",
       "    <tr>\n",
       "      <th>0</th>\n",
       "      <td>1</td>\n",
       "      <td>0.374487</td>\n",
       "    </tr>\n",
       "    <tr>\n",
       "      <th>1</th>\n",
       "      <td>2</td>\n",
       "      <td>0.364990</td>\n",
       "    </tr>\n",
       "  </tbody>\n",
       "</table>\n",
       "</div>"
      ],
      "text/plain": [
       "     k  accuracy\n",
       "14  15  0.457136\n",
       "24  25  0.457136\n",
       "32  33  0.456879\n",
       "26  27  0.456879\n",
       "18  19  0.456366\n",
       "25  26  0.455339\n",
       "27  28  0.454569\n",
       "28  29  0.453542\n",
       "17  18  0.453029\n",
       "30  31  0.453029\n",
       "29  30  0.452772\n",
       "33  34  0.452515\n",
       "19  20  0.452002\n",
       "15  16  0.451745\n",
       "23  24  0.451232\n",
       "16  17  0.451232\n",
       "20  21  0.450975\n",
       "21  22  0.449949\n",
       "13  14  0.449692\n",
       "12  13  0.449692\n",
       "31  32  0.448665\n",
       "22  23  0.448409\n",
       "11  12  0.446612\n",
       "8    9  0.439168\n",
       "9   10  0.437372\n",
       "10  11  0.436602\n",
       "5    6  0.432752\n",
       "6    7  0.431468\n",
       "7    8  0.428645\n",
       "4    5  0.420175\n",
       "3    4  0.408111\n",
       "2    3  0.396561\n",
       "0    1  0.374487\n",
       "1    2  0.364990"
      ]
     },
     "execution_count": 8,
     "metadata": {},
     "output_type": "execute_result"
    }
   ],
   "source": [
    "# KNeighborsClassifier\n",
    "results = []\n",
    "for k in tqdm(np.arange(1,35)):\n",
    "    knn_model = KNeighborsClassifier(n_neighbors=k)\n",
    "    knn_model.fit(songs_data_train, songs_target_train)\n",
    "\n",
    "    y_pred = knn_model.predict(songs_data_val)\n",
    "    accuracy = accuracy_score(songs_target_val, y_pred)\n",
    "    results.append({'k':k, 'accuracy': accuracy})\n",
    "                   \n",
    "results_df = pd.DataFrame(results)\n",
    "results_df.sort_values('accuracy', ascending=False)"
   ]
  },
  {
   "cell_type": "code",
   "execution_count": 31,
   "metadata": {},
   "outputs": [
    {
     "name": "stdout",
     "output_type": "stream",
     "text": [
      "0.4500641848523748\n"
     ]
    }
   ],
   "source": [
    "# accuracy on test set\n",
    "knn_model = KNeighborsClassifier(n_neighbors=15)\n",
    "knn_model.fit(songs_data_train, songs_target_train)\n",
    "y_pred = knn_model.predict(songs_data_test)\n",
    "accuracy = accuracy_score(songs_target_test, y_pred)\n",
    "print(accuracy)"
   ]
  },
  {
   "cell_type": "code",
   "execution_count": 45,
   "metadata": {},
   "outputs": [],
   "source": [
    "# cross validation\n",
    "res = []\n",
    "for k in np.arange(1,25):\n",
    "    knn_model = KNeighborsClassifier(n_neighbors=k)\n",
    "    er = cross_val_score(knn_model,songs_data_test2,songs_target_test2,cv=5)\n",
    "    res.append({'K':k, 'err_rate': er})"
   ]
  },
  {
   "cell_type": "code",
   "execution_count": 46,
   "metadata": {},
   "outputs": [
    {
     "data": {
      "text/html": [
       "<div>\n",
       "<style scoped>\n",
       "    .dataframe tbody tr th:only-of-type {\n",
       "        vertical-align: middle;\n",
       "    }\n",
       "\n",
       "    .dataframe tbody tr th {\n",
       "        vertical-align: top;\n",
       "    }\n",
       "\n",
       "    .dataframe thead th {\n",
       "        text-align: right;\n",
       "    }\n",
       "</style>\n",
       "<table border=\"1\" class=\"dataframe\">\n",
       "  <thead>\n",
       "    <tr style=\"text-align: right;\">\n",
       "      <th></th>\n",
       "      <th>0</th>\n",
       "      <th>1</th>\n",
       "    </tr>\n",
       "  </thead>\n",
       "  <tbody>\n",
       "    <tr>\n",
       "      <th>20</th>\n",
       "      <td>21</td>\n",
       "      <td>0.423822</td>\n",
       "    </tr>\n",
       "  </tbody>\n",
       "</table>\n",
       "</div>"
      ],
      "text/plain": [
       "     0         1\n",
       "20  21  0.423822"
      ]
     },
     "execution_count": 46,
     "metadata": {},
     "output_type": "execute_result"
    }
   ],
   "source": [
    "results = list(map(lambda x: (x['K'], x['err_rate'].mean()), res))\n",
    "results_df = pd.DataFrame(results)\n",
    "results_df.loc[results_df[1]==results_df[1].max()]"
   ]
  },
  {
   "cell_type": "code",
   "execution_count": 47,
   "metadata": {},
   "outputs": [
    {
     "name": "stdout",
     "output_type": "stream",
     "text": [
      "0.452958541907329\n"
     ]
    }
   ],
   "source": [
    "# accuracy on test set\n",
    "knn_model = KNeighborsClassifier(n_neighbors=21)\n",
    "knn_model.fit(songs_data_train2, songs_target_train2)\n",
    "y_pred = knn_model.predict(songs_data_test2)\n",
    "accuracy = accuracy_score(songs_target_test2, y_pred)\n",
    "print(accuracy)"
   ]
  },
  {
   "cell_type": "markdown",
   "metadata": {},
   "source": [
    "## Naive bayes classifier"
   ]
  },
  {
   "cell_type": "code",
   "execution_count": 16,
   "metadata": {},
   "outputs": [
    {
     "name": "stdout",
     "output_type": "stream",
     "text": [
      "0.43993839835728954\n"
     ]
    }
   ],
   "source": [
    "# Naive bayes classifier\n",
    "naive_bayes_model = GaussianNB()\n",
    "\n",
    "naive_bayes_model.fit(songs_data_train, songs_target_train)\n",
    "y_pred = naive_bayes_model.predict(songs_data_val)\n",
    "accuracy = accuracy_score(songs_target_val, y_pred)\n",
    "\n",
    "print(accuracy)"
   ]
  },
  {
   "cell_type": "code",
   "execution_count": 48,
   "metadata": {},
   "outputs": [
    {
     "name": "stdout",
     "output_type": "stream",
     "text": [
      "0.4420485175202156\n"
     ]
    }
   ],
   "source": [
    "# accuracy on test set\n",
    "naive_bayes_model = GaussianNB()\n",
    "\n",
    "naive_bayes_model.fit(songs_data_train2, songs_target_train2)\n",
    "y_pred = naive_bayes_model.predict(songs_data_test2)\n",
    "accuracy = accuracy_score(songs_target_test2, y_pred)\n",
    "\n",
    "print(accuracy)"
   ]
  },
  {
   "cell_type": "markdown",
   "metadata": {},
   "source": [
    "Each feature has the same influence on the decision."
   ]
  },
  {
   "cell_type": "markdown",
   "metadata": {},
   "source": [
    "## Decision tree"
   ]
  },
  {
   "cell_type": "code",
   "execution_count": 13,
   "metadata": {},
   "outputs": [
    {
     "name": "stdout",
     "output_type": "stream",
     "text": [
      "Best params: {'max_depth': 9, 'min_samples_leaf': 4, 'min_samples_split': 8}\n",
      "0.45585215605749485\n"
     ]
    }
   ],
   "source": [
    "# Decision tree\n",
    "decision_tree_model = DecisionTreeClassifier()\n",
    "\n",
    "param_grid = {\n",
    "    'max_depth': [7,9,11],\n",
    "    'min_samples_leaf': [3,4,5],\n",
    "    'min_samples_split': [6,7,8]\n",
    "}\n",
    "\n",
    "grid_search = GridSearchCV(decision_tree_model, param_grid, cv=5, scoring='accuracy')\n",
    "grid_search.fit(songs_data_train, songs_target_train)\n",
    "best_params = grid_search.best_params_\n",
    "best_model = grid_search.best_estimator_\n",
    "print(\"Best params:\", best_params)\n",
    "\n",
    "y_pred = best_model.predict(songs_data_val)\n",
    "accuracy = accuracy_score(songs_target_val, y_pred)\n",
    "print(accuracy)"
   ]
  },
  {
   "cell_type": "code",
   "execution_count": 15,
   "metadata": {},
   "outputs": [
    {
     "data": {
      "text/plain": [
       "array([0.17739404, 0.09192767, 0.00604568, 0.06356691, 0.00300473,\n",
       "       0.20183013, 0.05447717, 0.08677825, 0.00766335, 0.07231996,\n",
       "       0.14842794, 0.08656417])"
      ]
     },
     "execution_count": 15,
     "metadata": {},
     "output_type": "execute_result"
    }
   ],
   "source": [
    "# feature importances\n",
    "best_model.feature_importances_"
   ]
  },
  {
   "cell_type": "code",
   "execution_count": 30,
   "metadata": {},
   "outputs": [
    {
     "data": {
      "text/plain": [
       "danceability        0.177394\n",
       "energy              0.091928\n",
       "key                 0.006046\n",
       "loudness            0.063567\n",
       "mode                0.003005\n",
       "speechiness         0.201830\n",
       "acousticness        0.054477\n",
       "instrumentalness    0.086778\n",
       "liveness            0.007663\n",
       "valence             0.072320\n",
       "tempo               0.148428\n",
       "duration_ms         0.086564\n",
       "dtype: float64"
      ]
     },
     "execution_count": 30,
     "metadata": {},
     "output_type": "execute_result"
    }
   ],
   "source": [
    "feature_importances_dt = pd.Series(best_model.feature_importances_, index=songs_data_train.columns)\n",
    "feature_importances_dt"
   ]
  },
  {
   "cell_type": "code",
   "execution_count": 31,
   "metadata": {},
   "outputs": [
    {
     "data": {
      "image/png": "[encoded data removed]",
      "text/plain": [
       "<Figure size 432x288 with 1 Axes>"
      ]
     },
     "metadata": {
      "needs_background": "light"
     },
     "output_type": "display_data"
    }
   ],
   "source": [
    "fig, ax = plt.subplots()\n",
    "feature_importances_dt.plot.bar(ax=ax)\n",
    "ax.set_title(\"Feature importances - decision tree\")\n",
    "fig.tight_layout()"
   ]
  },
  {
   "cell_type": "markdown",
   "metadata": {},
   "source": [
    "## Random forest"
   ]
  },
  {
   "cell_type": "code",
   "execution_count": 10,
   "metadata": {},
   "outputs": [
    {
     "name": "stdout",
     "output_type": "stream",
     "text": [
      "0.5141170431211499\n"
     ]
    }
   ],
   "source": [
    "# Random forest\n",
    "random_forest_model = RandomForestClassifier(n_estimators=105, random_state=42)\n",
    "random_forest_model.fit(songs_data_train, songs_target_train)\n",
    "y_pred = random_forest_model.predict(songs_data_val)\n",
    "accuracy = accuracy_score(songs_target_val, y_pred)\n",
    "print(accuracy)\n",
    "\n",
    "# hyperparameter tunning???"
   ]
  },
  {
   "cell_type": "code",
   "execution_count": 11,
   "metadata": {},
   "outputs": [
    {
     "data": {
      "text/plain": [
       "array([0.11664049, 0.09430144, 0.04513025, 0.08561509, 0.01343936,\n",
       "       0.12335856, 0.08947298, 0.07245947, 0.06727818, 0.09021271,\n",
       "       0.11112308, 0.09096838])"
      ]
     },
     "execution_count": 11,
     "metadata": {},
     "output_type": "execute_result"
    }
   ],
   "source": [
    "# feature importances\n",
    "random_forest_model.feature_importances_"
   ]
  },
  {
   "cell_type": "code",
   "execution_count": 27,
   "metadata": {},
   "outputs": [
    {
     "data": {
      "text/plain": [
       "danceability        0.116640\n",
       "energy              0.094301\n",
       "key                 0.045130\n",
       "loudness            0.085615\n",
       "mode                0.013439\n",
       "speechiness         0.123359\n",
       "acousticness        0.089473\n",
       "instrumentalness    0.072459\n",
       "liveness            0.067278\n",
       "valence             0.090213\n",
       "tempo               0.111123\n",
       "duration_ms         0.090968\n",
       "dtype: float64"
      ]
     },
     "execution_count": 27,
     "metadata": {},
     "output_type": "execute_result"
    }
   ],
   "source": [
    "feature_importances_rf = pd.Series(random_forest_model.feature_importances_, index=songs_data_train.columns)\n",
    "feature_importances_rf"
   ]
  },
  {
   "cell_type": "code",
   "execution_count": 28,
   "metadata": {},
   "outputs": [
    {
     "data": {
      "image/png": "[encoded data removed]",
      "text/plain": [
       "<Figure size 432x288 with 1 Axes>"
      ]
     },
     "metadata": {
      "needs_background": "light"
     },
     "output_type": "display_data"
    }
   ],
   "source": [
    "fig, ax = plt.subplots()\n",
    "feature_importances_rf.plot.bar(ax=ax)\n",
    "ax.set_title(\"Feature importances - random forest\")\n",
    "fig.tight_layout()"
   ]
  },
  {
   "cell_type": "markdown",
   "metadata": {},
   "source": [
    "## Support Vector Machine"
   ]
  },
  {
   "cell_type": "code",
   "execution_count": 12,
   "metadata": {},
   "outputs": [
    {
     "name": "stdout",
     "output_type": "stream",
     "text": [
      "0.5033367556468172\n"
     ]
    }
   ],
   "source": [
    "# Support Vector Machine\n",
    "clf = svm.SVC(decision_function_shape='ovr', kernel='poly', degree=4)\n",
    "clf.fit(songs_data_train, songs_target_train)\n",
    "y_pred = clf.predict(songs_data_val)\n",
    "\n",
    "accuracy = accuracy_score(songs_target_val, y_pred)\n",
    "print(accuracy)"
   ]
  },
  {
   "cell_type": "markdown",
   "metadata": {},
   "source": [
    "#### Extra models\n",
    "Gradient Boosting\n",
    "\n",
    "XGBoost\n",
    "\n",
    "AdaBoost\n",
    "\n",
    "Multiclass logistic regression"
   ]
  }
 ],
 "metadata": {
  "kernelspec": {
   "display_name": "Python 3 (ipykernel)",
   "language": "python",
   "name": "python3"
  },
  "language_info": {
   "codemirror_mode": {
    "name": "ipython",
    "version": 3
   },
   "file_extension": ".py",
   "mimetype": "text/x-python",
   "name": "python",
   "nbconvert_exporter": "python",
   "pygments_lexer": "ipython3",
   "version": "3.10.0"
  }
 },
 "nbformat": 4,
 "nbformat_minor": 2
}
