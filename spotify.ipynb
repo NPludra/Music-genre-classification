{
 "cells": [
  {
   "cell_type": "code",
   "execution_count": 1,
   "metadata": {},
   "outputs": [
    {
     "name": "stderr",
     "output_type": "stream",
     "text": [
      "/usr/local/lib/python3.11/site-packages/tqdm/auto.py:21: TqdmWarning: IProgress not found. Please update jupyter and ipywidgets. See https://ipywidgets.readthedocs.io/en/stable/user_install.html\n",
      "  from .autonotebook import tqdm as notebook_tqdm\n"
     ]
    }
   ],
   "source": [
    "import pandas as pd\n",
    "import numpy as np\n",
    "import matplotlib.pyplot as plt\n",
    "import seaborn as sns\n",
    "from sklearn.model_selection import train_test_split, GridSearchCV\n",
    "\n",
    "from sklearn.neighbors import KNeighborsClassifier\n",
    "from sklearn.metrics import accuracy_score\n",
    "from tqdm.auto import tqdm\n",
    "from sklearn.naive_bayes import GaussianNB\n",
    "from sklearn.tree import DecisionTreeClassifier\n",
    "from sklearn.ensemble import RandomForestClassifier\n",
    "from sklearn.linear_model import LogisticRegression\n",
    "from sklearn.ensemble import AdaBoostClassifier\n",
    "from sklearn.ensemble import BaggingClassifier\n",
    "from sklearn import svm\n",
    "from sklearn.model_selection import cross_val_score\n"
   ]
  },
  {
   "cell_type": "code",
   "execution_count": 2,
   "metadata": {},
   "outputs": [
    {
     "name": "stdout",
     "output_type": "stream",
     "text": [
      "<class 'pandas.core.frame.DataFrame'>\n",
      "RangeIndex: 32833 entries, 0 to 32832\n",
      "Data columns (total 13 columns):\n",
      " #   Column            Non-Null Count  Dtype  \n",
      "---  ------            --------------  -----  \n",
      " 0   playlist_genre    32833 non-null  object \n",
      " 1   danceability      32833 non-null  float64\n",
      " 2   energy            32833 non-null  float64\n",
      " 3   key               32833 non-null  int64  \n",
      " 4   loudness          32833 non-null  float64\n",
      " 5   mode              32833 non-null  int64  \n",
      " 6   speechiness       32833 non-null  float64\n",
      " 7   acousticness      32833 non-null  float64\n",
      " 8   instrumentalness  32833 non-null  float64\n",
      " 9   liveness          32833 non-null  float64\n",
      " 10  valence           32833 non-null  float64\n",
      " 11  tempo             32833 non-null  float64\n",
      " 12  duration_ms       32833 non-null  int64  \n",
      "dtypes: float64(9), int64(3), object(1)\n",
      "memory usage: 3.3+ MB\n",
      "None\n"
     ]
    }
   ],
   "source": [
    "df = pd.read_csv('input/spotify_songs.csv', sep=',')\n",
    "\n",
    "songs = df[['playlist_genre', 'danceability', 'energy', 'key', 'loudness', 'mode', 'speechiness', 'acousticness', 'instrumentalness', 'liveness', 'valence', 'tempo', 'duration_ms']]\n",
    "print(songs.info())\n"
   ]
  },
  {
   "cell_type": "code",
   "execution_count": 3,
   "metadata": {},
   "outputs": [
    {
     "data": {
      "text/html": [
       "<div>\n",
       "<style scoped>\n",
       "    .dataframe tbody tr th:only-of-type {\n",
       "        vertical-align: middle;\n",
       "    }\n",
       "\n",
       "    .dataframe tbody tr th {\n",
       "        vertical-align: top;\n",
       "    }\n",
       "\n",
       "    .dataframe thead th {\n",
       "        text-align: right;\n",
       "    }\n",
       "</style>\n",
       "<table border=\"1\" class=\"dataframe\">\n",
       "  <thead>\n",
       "    <tr style=\"text-align: right;\">\n",
       "      <th></th>\n",
       "      <th>danceability</th>\n",
       "      <th>energy</th>\n",
       "      <th>key</th>\n",
       "      <th>loudness</th>\n",
       "      <th>mode</th>\n",
       "      <th>speechiness</th>\n",
       "      <th>acousticness</th>\n",
       "      <th>instrumentalness</th>\n",
       "      <th>liveness</th>\n",
       "      <th>valence</th>\n",
       "      <th>tempo</th>\n",
       "      <th>duration_ms</th>\n",
       "    </tr>\n",
       "  </thead>\n",
       "  <tbody>\n",
       "    <tr>\n",
       "      <th>count</th>\n",
       "      <td>32833.000000</td>\n",
       "      <td>32833.000000</td>\n",
       "      <td>32833.000000</td>\n",
       "      <td>32833.000000</td>\n",
       "      <td>32833.000000</td>\n",
       "      <td>32833.000000</td>\n",
       "      <td>32833.000000</td>\n",
       "      <td>32833.000000</td>\n",
       "      <td>32833.000000</td>\n",
       "      <td>32833.000000</td>\n",
       "      <td>32833.000000</td>\n",
       "      <td>32833.000000</td>\n",
       "    </tr>\n",
       "    <tr>\n",
       "      <th>mean</th>\n",
       "      <td>0.654850</td>\n",
       "      <td>0.698619</td>\n",
       "      <td>5.374471</td>\n",
       "      <td>-6.719499</td>\n",
       "      <td>0.565711</td>\n",
       "      <td>0.107068</td>\n",
       "      <td>0.175334</td>\n",
       "      <td>0.084747</td>\n",
       "      <td>0.190176</td>\n",
       "      <td>0.510561</td>\n",
       "      <td>120.881132</td>\n",
       "      <td>225799.811622</td>\n",
       "    </tr>\n",
       "    <tr>\n",
       "      <th>std</th>\n",
       "      <td>0.145085</td>\n",
       "      <td>0.180910</td>\n",
       "      <td>3.611657</td>\n",
       "      <td>2.988436</td>\n",
       "      <td>0.495671</td>\n",
       "      <td>0.101314</td>\n",
       "      <td>0.219633</td>\n",
       "      <td>0.224230</td>\n",
       "      <td>0.154317</td>\n",
       "      <td>0.233146</td>\n",
       "      <td>26.903624</td>\n",
       "      <td>59834.006182</td>\n",
       "    </tr>\n",
       "    <tr>\n",
       "      <th>min</th>\n",
       "      <td>0.000000</td>\n",
       "      <td>0.000175</td>\n",
       "      <td>0.000000</td>\n",
       "      <td>-46.448000</td>\n",
       "      <td>0.000000</td>\n",
       "      <td>0.000000</td>\n",
       "      <td>0.000000</td>\n",
       "      <td>0.000000</td>\n",
       "      <td>0.000000</td>\n",
       "      <td>0.000000</td>\n",
       "      <td>0.000000</td>\n",
       "      <td>4000.000000</td>\n",
       "    </tr>\n",
       "    <tr>\n",
       "      <th>25%</th>\n",
       "      <td>0.563000</td>\n",
       "      <td>0.581000</td>\n",
       "      <td>2.000000</td>\n",
       "      <td>-8.171000</td>\n",
       "      <td>0.000000</td>\n",
       "      <td>0.041000</td>\n",
       "      <td>0.015100</td>\n",
       "      <td>0.000000</td>\n",
       "      <td>0.092700</td>\n",
       "      <td>0.331000</td>\n",
       "      <td>99.960000</td>\n",
       "      <td>187819.000000</td>\n",
       "    </tr>\n",
       "    <tr>\n",
       "      <th>50%</th>\n",
       "      <td>0.672000</td>\n",
       "      <td>0.721000</td>\n",
       "      <td>6.000000</td>\n",
       "      <td>-6.166000</td>\n",
       "      <td>1.000000</td>\n",
       "      <td>0.062500</td>\n",
       "      <td>0.080400</td>\n",
       "      <td>0.000016</td>\n",
       "      <td>0.127000</td>\n",
       "      <td>0.512000</td>\n",
       "      <td>121.984000</td>\n",
       "      <td>216000.000000</td>\n",
       "    </tr>\n",
       "    <tr>\n",
       "      <th>75%</th>\n",
       "      <td>0.761000</td>\n",
       "      <td>0.840000</td>\n",
       "      <td>9.000000</td>\n",
       "      <td>-4.645000</td>\n",
       "      <td>1.000000</td>\n",
       "      <td>0.132000</td>\n",
       "      <td>0.255000</td>\n",
       "      <td>0.004830</td>\n",
       "      <td>0.248000</td>\n",
       "      <td>0.693000</td>\n",
       "      <td>133.918000</td>\n",
       "      <td>253585.000000</td>\n",
       "    </tr>\n",
       "    <tr>\n",
       "      <th>max</th>\n",
       "      <td>0.983000</td>\n",
       "      <td>1.000000</td>\n",
       "      <td>11.000000</td>\n",
       "      <td>1.275000</td>\n",
       "      <td>1.000000</td>\n",
       "      <td>0.918000</td>\n",
       "      <td>0.994000</td>\n",
       "      <td>0.994000</td>\n",
       "      <td>0.996000</td>\n",
       "      <td>0.991000</td>\n",
       "      <td>239.440000</td>\n",
       "      <td>517810.000000</td>\n",
       "    </tr>\n",
       "  </tbody>\n",
       "</table>\n",
       "</div>"
      ],
      "text/plain": [
       "       danceability        energy           key      loudness          mode  \\\n",
       "count  32833.000000  32833.000000  32833.000000  32833.000000  32833.000000   \n",
       "mean       0.654850      0.698619      5.374471     -6.719499      0.565711   \n",
       "std        0.145085      0.180910      3.611657      2.988436      0.495671   \n",
       "min        0.000000      0.000175      0.000000    -46.448000      0.000000   \n",
       "25%        0.563000      0.581000      2.000000     -8.171000      0.000000   \n",
       "50%        0.672000      0.721000      6.000000     -6.166000      1.000000   \n",
       "75%        0.761000      0.840000      9.000000     -4.645000      1.000000   \n",
       "max        0.983000      1.000000     11.000000      1.275000      1.000000   \n",
       "\n",
       "        speechiness  acousticness  instrumentalness      liveness  \\\n",
       "count  32833.000000  32833.000000      32833.000000  32833.000000   \n",
       "mean       0.107068      0.175334          0.084747      0.190176   \n",
       "std        0.101314      0.219633          0.224230      0.154317   \n",
       "min        0.000000      0.000000          0.000000      0.000000   \n",
       "25%        0.041000      0.015100          0.000000      0.092700   \n",
       "50%        0.062500      0.080400          0.000016      0.127000   \n",
       "75%        0.132000      0.255000          0.004830      0.248000   \n",
       "max        0.918000      0.994000          0.994000      0.996000   \n",
       "\n",
       "            valence         tempo    duration_ms  \n",
       "count  32833.000000  32833.000000   32833.000000  \n",
       "mean       0.510561    120.881132  225799.811622  \n",
       "std        0.233146     26.903624   59834.006182  \n",
       "min        0.000000      0.000000    4000.000000  \n",
       "25%        0.331000     99.960000  187819.000000  \n",
       "50%        0.512000    121.984000  216000.000000  \n",
       "75%        0.693000    133.918000  253585.000000  \n",
       "max        0.991000    239.440000  517810.000000  "
      ]
     },
     "execution_count": 3,
     "metadata": {},
     "output_type": "execute_result"
    }
   ],
   "source": [
    "songs.describe()"
   ]
  },
  {
   "cell_type": "code",
   "execution_count": 4,
   "metadata": {},
   "outputs": [
    {
     "name": "stdout",
     "output_type": "stream",
     "text": [
      "Number of duplicate rows:  3041\n"
     ]
    }
   ],
   "source": [
    "# Remove duplicates\n",
    "duplicates = songs.duplicated()\n",
    "print(\"Number of duplicate rows: \", duplicates.sum())\n",
    "\n",
    "songs_no_duplicates = songs.drop_duplicates()\n"
   ]
  },
  {
   "cell_type": "markdown",
   "metadata": {},
   "source": [
    "We have performed tests with and without removing duplicated rows. Turns out leaving duplicates yields much better result (almost 5% improvement for some models)."
   ]
  },
  {
   "cell_type": "code",
   "execution_count": 5,
   "metadata": {},
   "outputs": [
    {
     "name": "stdout",
     "output_type": "stream",
     "text": [
      "Total number of songs:  32833\n",
      "playlist_genre\n",
      "edm      6043\n",
      "rap      5746\n",
      "pop      5507\n",
      "r&b      5431\n",
      "latin    5155\n",
      "rock     4951\n",
      "Name: count, dtype: int64\n"
     ]
    }
   ],
   "source": [
    "print(\"Total number of songs: \", len(songs))\n",
    "print(songs['playlist_genre'].value_counts())"
   ]
  },
  {
   "cell_type": "code",
   "execution_count": 6,
   "metadata": {},
   "outputs": [],
   "source": [
    "min = songs['playlist_genre'].value_counts().min()\n",
    "# Take only min songs from each genre\n",
    "songs_grouped = songs.groupby('playlist_genre').head(min)"
   ]
  },
  {
   "cell_type": "code",
   "execution_count": 7,
   "metadata": {},
   "outputs": [
    {
     "data": {
      "text/plain": [
       "{'pop': 0, 'rap': 1, 'rock': 2, 'latin': 3, 'r&b': 4, 'edm': 5}"
      ]
     },
     "execution_count": 7,
     "metadata": {},
     "output_type": "execute_result"
    }
   ],
   "source": [
    "map_genres = {genre: i for i, genre in enumerate(songs_grouped['playlist_genre'].unique())}\n",
    "map_genres "
   ]
  },
  {
   "cell_type": "code",
   "execution_count": 8,
   "metadata": {},
   "outputs": [
    {
     "name": "stdout",
     "output_type": "stream",
     "text": [
      "Training set size:  20794\n",
      "Test set size:  4456\n",
      "Validation set size:  4456\n"
     ]
    }
   ],
   "source": [
    "songs_data_non_normalized = songs_grouped.drop('playlist_genre', axis=1)\n",
    "songs_target = songs_grouped['playlist_genre']\n",
    "songs_target = songs_target.map(map_genres)\n",
    "\n",
    "# Normalize data to 0-1 range\n",
    "songs_data = (songs_data_non_normalized - songs_data_non_normalized.min()) / (songs_data_non_normalized.max() - songs_data_non_normalized.min())\n",
    "\n",
    "songs_data_train, songs_data_test, songs_target_train, songs_target_test = train_test_split(songs_data, songs_target, test_size=0.3, random_state=0)\n",
    "songs_data_test, songs_data_val, songs_target_test, songs_target_val = train_test_split(songs_data_test, songs_target_test, test_size=0.5, random_state=0)\n",
    "\n",
    "print(\"Training set size: \", len(songs_data_train))\n",
    "print(\"Test set size: \", len(songs_data_test))\n",
    "print(\"Validation set size: \", len(songs_data_val))"
   ]
  },
  {
   "cell_type": "code",
   "execution_count": 31,
   "metadata": {},
   "outputs": [
    {
     "name": "stdout",
     "output_type": "stream",
     "text": [
      "Training set size:  25250\n",
      "Test set size:  4456\n"
     ]
    }
   ],
   "source": [
    "# only train-test split (for cross validation)\n",
    "songs_data_train2, songs_data_test2, songs_target_train2, songs_target_test2 = train_test_split(songs_data, songs_target, test_size=0.15, random_state=0)\n",
    "\n",
    "print(\"Training set size: \", len(songs_data_train2))\n",
    "print(\"Test set size: \", len(songs_data_test2))"
   ]
  },
  {
   "cell_type": "markdown",
   "metadata": {},
   "source": [
    "# Models"
   ]
  },
  {
   "cell_type": "markdown",
   "metadata": {},
   "source": [
    "## KNeighborsClassifier"
   ]
  },
  {
   "cell_type": "code",
   "execution_count": 10,
   "metadata": {},
   "outputs": [
    {
     "name": "stderr",
     "output_type": "stream",
     "text": [
      "  0%|          | 0/34 [00:00<?, ?it/s]"
     ]
    },
    {
     "name": "stderr",
     "output_type": "stream",
     "text": [
      "100%|██████████| 34/34 [00:22<00:00,  1.54it/s]\n"
     ]
    },
    {
     "data": {
      "text/html": [
       "<div>\n",
       "<style scoped>\n",
       "    .dataframe tbody tr th:only-of-type {\n",
       "        vertical-align: middle;\n",
       "    }\n",
       "\n",
       "    .dataframe tbody tr th {\n",
       "        vertical-align: top;\n",
       "    }\n",
       "\n",
       "    .dataframe thead th {\n",
       "        text-align: right;\n",
       "    }\n",
       "</style>\n",
       "<table border=\"1\" class=\"dataframe\">\n",
       "  <thead>\n",
       "    <tr style=\"text-align: right;\">\n",
       "      <th></th>\n",
       "      <th>k</th>\n",
       "      <th>accuracy</th>\n",
       "    </tr>\n",
       "  </thead>\n",
       "  <tbody>\n",
       "    <tr>\n",
       "      <th>24</th>\n",
       "      <td>25</td>\n",
       "      <td>0.471050</td>\n",
       "    </tr>\n",
       "    <tr>\n",
       "      <th>32</th>\n",
       "      <td>33</td>\n",
       "      <td>0.470377</td>\n",
       "    </tr>\n",
       "    <tr>\n",
       "      <th>27</th>\n",
       "      <td>28</td>\n",
       "      <td>0.470153</td>\n",
       "    </tr>\n",
       "    <tr>\n",
       "      <th>21</th>\n",
       "      <td>22</td>\n",
       "      <td>0.469928</td>\n",
       "    </tr>\n",
       "    <tr>\n",
       "      <th>20</th>\n",
       "      <td>21</td>\n",
       "      <td>0.469928</td>\n",
       "    </tr>\n",
       "    <tr>\n",
       "      <th>33</th>\n",
       "      <td>34</td>\n",
       "      <td>0.469479</td>\n",
       "    </tr>\n",
       "    <tr>\n",
       "      <th>22</th>\n",
       "      <td>23</td>\n",
       "      <td>0.469479</td>\n",
       "    </tr>\n",
       "    <tr>\n",
       "      <th>31</th>\n",
       "      <td>32</td>\n",
       "      <td>0.469031</td>\n",
       "    </tr>\n",
       "    <tr>\n",
       "      <th>30</th>\n",
       "      <td>31</td>\n",
       "      <td>0.469031</td>\n",
       "    </tr>\n",
       "    <tr>\n",
       "      <th>26</th>\n",
       "      <td>27</td>\n",
       "      <td>0.468582</td>\n",
       "    </tr>\n",
       "    <tr>\n",
       "      <th>28</th>\n",
       "      <td>29</td>\n",
       "      <td>0.468357</td>\n",
       "    </tr>\n",
       "    <tr>\n",
       "      <th>19</th>\n",
       "      <td>20</td>\n",
       "      <td>0.468133</td>\n",
       "    </tr>\n",
       "    <tr>\n",
       "      <th>18</th>\n",
       "      <td>19</td>\n",
       "      <td>0.467235</td>\n",
       "    </tr>\n",
       "    <tr>\n",
       "      <th>25</th>\n",
       "      <td>26</td>\n",
       "      <td>0.467235</td>\n",
       "    </tr>\n",
       "    <tr>\n",
       "      <th>29</th>\n",
       "      <td>30</td>\n",
       "      <td>0.467011</td>\n",
       "    </tr>\n",
       "    <tr>\n",
       "      <th>23</th>\n",
       "      <td>24</td>\n",
       "      <td>0.466113</td>\n",
       "    </tr>\n",
       "    <tr>\n",
       "      <th>17</th>\n",
       "      <td>18</td>\n",
       "      <td>0.465889</td>\n",
       "    </tr>\n",
       "    <tr>\n",
       "      <th>15</th>\n",
       "      <td>16</td>\n",
       "      <td>0.464542</td>\n",
       "    </tr>\n",
       "    <tr>\n",
       "      <th>16</th>\n",
       "      <td>17</td>\n",
       "      <td>0.463420</td>\n",
       "    </tr>\n",
       "    <tr>\n",
       "      <th>14</th>\n",
       "      <td>15</td>\n",
       "      <td>0.460727</td>\n",
       "    </tr>\n",
       "    <tr>\n",
       "      <th>11</th>\n",
       "      <td>12</td>\n",
       "      <td>0.460503</td>\n",
       "    </tr>\n",
       "    <tr>\n",
       "      <th>13</th>\n",
       "      <td>14</td>\n",
       "      <td>0.460278</td>\n",
       "    </tr>\n",
       "    <tr>\n",
       "      <th>12</th>\n",
       "      <td>13</td>\n",
       "      <td>0.459381</td>\n",
       "    </tr>\n",
       "    <tr>\n",
       "      <th>10</th>\n",
       "      <td>11</td>\n",
       "      <td>0.457361</td>\n",
       "    </tr>\n",
       "    <tr>\n",
       "      <th>9</th>\n",
       "      <td>10</td>\n",
       "      <td>0.454892</td>\n",
       "    </tr>\n",
       "    <tr>\n",
       "      <th>7</th>\n",
       "      <td>8</td>\n",
       "      <td>0.452199</td>\n",
       "    </tr>\n",
       "    <tr>\n",
       "      <th>8</th>\n",
       "      <td>9</td>\n",
       "      <td>0.451975</td>\n",
       "    </tr>\n",
       "    <tr>\n",
       "      <th>6</th>\n",
       "      <td>7</td>\n",
       "      <td>0.446589</td>\n",
       "    </tr>\n",
       "    <tr>\n",
       "      <th>4</th>\n",
       "      <td>5</td>\n",
       "      <td>0.443671</td>\n",
       "    </tr>\n",
       "    <tr>\n",
       "      <th>5</th>\n",
       "      <td>6</td>\n",
       "      <td>0.441427</td>\n",
       "    </tr>\n",
       "    <tr>\n",
       "      <th>3</th>\n",
       "      <td>4</td>\n",
       "      <td>0.436490</td>\n",
       "    </tr>\n",
       "    <tr>\n",
       "      <th>2</th>\n",
       "      <td>3</td>\n",
       "      <td>0.428187</td>\n",
       "    </tr>\n",
       "    <tr>\n",
       "      <th>0</th>\n",
       "      <td>1</td>\n",
       "      <td>0.425943</td>\n",
       "    </tr>\n",
       "    <tr>\n",
       "      <th>1</th>\n",
       "      <td>2</td>\n",
       "      <td>0.394749</td>\n",
       "    </tr>\n",
       "  </tbody>\n",
       "</table>\n",
       "</div>"
      ],
      "text/plain": [
       "     k  accuracy\n",
       "24  25  0.471050\n",
       "32  33  0.470377\n",
       "27  28  0.470153\n",
       "21  22  0.469928\n",
       "20  21  0.469928\n",
       "33  34  0.469479\n",
       "22  23  0.469479\n",
       "31  32  0.469031\n",
       "30  31  0.469031\n",
       "26  27  0.468582\n",
       "28  29  0.468357\n",
       "19  20  0.468133\n",
       "18  19  0.467235\n",
       "25  26  0.467235\n",
       "29  30  0.467011\n",
       "23  24  0.466113\n",
       "17  18  0.465889\n",
       "15  16  0.464542\n",
       "16  17  0.463420\n",
       "14  15  0.460727\n",
       "11  12  0.460503\n",
       "13  14  0.460278\n",
       "12  13  0.459381\n",
       "10  11  0.457361\n",
       "9   10  0.454892\n",
       "7    8  0.452199\n",
       "8    9  0.451975\n",
       "6    7  0.446589\n",
       "4    5  0.443671\n",
       "5    6  0.441427\n",
       "3    4  0.436490\n",
       "2    3  0.428187\n",
       "0    1  0.425943\n",
       "1    2  0.394749"
      ]
     },
     "execution_count": 10,
     "metadata": {},
     "output_type": "execute_result"
    }
   ],
   "source": [
    "# KNeighborsClassifier\n",
    "results = []\n",
    "for k in tqdm(np.arange(1,35)):\n",
    "    knn_model = KNeighborsClassifier(n_neighbors=k)\n",
    "    knn_model.fit(songs_data_train, songs_target_train)\n",
    "\n",
    "    y_pred = knn_model.predict(songs_data_val)\n",
    "    accuracy = accuracy_score(songs_target_val, y_pred)\n",
    "    results.append({'k':k, 'accuracy': accuracy})\n",
    "                   \n",
    "results_df = pd.DataFrame(results)\n",
    "results_df.sort_values('accuracy', ascending=False)"
   ]
  },
  {
   "cell_type": "code",
   "execution_count": 47,
   "metadata": {},
   "outputs": [
    {
     "name": "stdout",
     "output_type": "stream",
     "text": [
      "0.4723967684021544\n"
     ]
    }
   ],
   "source": [
    "# accuracy on test set\n",
    "knn_model = KNeighborsClassifier(n_neighbors=25)\n",
    "knn_model.fit(songs_data_train, songs_target_train)\n",
    "y_pred = knn_model.predict(songs_data_test)\n",
    "accuracy = accuracy_score(songs_target_test, y_pred)\n",
    "print(accuracy)"
   ]
  },
  {
   "cell_type": "code",
   "execution_count": 32,
   "metadata": {},
   "outputs": [],
   "source": [
    "# cross validation\n",
    "res = []\n",
    "for k in np.arange(1,30):\n",
    "    knn_model = KNeighborsClassifier(n_neighbors=k)\n",
    "    er = cross_val_score(knn_model,songs_data_train2,songs_target_train2,cv=5)\n",
    "    res.append({'K':k, 'err_rate': er})"
   ]
  },
  {
   "cell_type": "code",
   "execution_count": 33,
   "metadata": {},
   "outputs": [
    {
     "data": {
      "text/html": [
       "<div>\n",
       "<style scoped>\n",
       "    .dataframe tbody tr th:only-of-type {\n",
       "        vertical-align: middle;\n",
       "    }\n",
       "\n",
       "    .dataframe tbody tr th {\n",
       "        vertical-align: top;\n",
       "    }\n",
       "\n",
       "    .dataframe thead th {\n",
       "        text-align: right;\n",
       "    }\n",
       "</style>\n",
       "<table border=\"1\" class=\"dataframe\">\n",
       "  <thead>\n",
       "    <tr style=\"text-align: right;\">\n",
       "      <th></th>\n",
       "      <th>0</th>\n",
       "      <th>1</th>\n",
       "    </tr>\n",
       "  </thead>\n",
       "  <tbody>\n",
       "    <tr>\n",
       "      <th>22</th>\n",
       "      <td>23</td>\n",
       "      <td>0.466772</td>\n",
       "    </tr>\n",
       "  </tbody>\n",
       "</table>\n",
       "</div>"
      ],
      "text/plain": [
       "     0         1\n",
       "22  23  0.466772"
      ]
     },
     "execution_count": 33,
     "metadata": {},
     "output_type": "execute_result"
    }
   ],
   "source": [
    "results = list(map(lambda x: (x['K'], x['err_rate'].mean()), res))\n",
    "results_df = pd.DataFrame(results)\n",
    "results_df.loc[results_df[1]==results_df[1].max()]"
   ]
  },
  {
   "cell_type": "code",
   "execution_count": 48,
   "metadata": {},
   "outputs": [
    {
     "name": "stdout",
     "output_type": "stream",
     "text": [
      "0.46925493716337524\n"
     ]
    }
   ],
   "source": [
    "# accuracy on test set\n",
    "knn_model = KNeighborsClassifier(n_neighbors=23)\n",
    "knn_model.fit(songs_data_train2, songs_target_train2)\n",
    "y_pred = knn_model.predict(songs_data_test2)\n",
    "accuracy = accuracy_score(songs_target_test2, y_pred)\n",
    "print(accuracy)"
   ]
  },
  {
   "cell_type": "markdown",
   "metadata": {},
   "source": [
    "### KNN on not normalized data"
   ]
  },
  {
   "cell_type": "code",
   "execution_count": 15,
   "metadata": {},
   "outputs": [],
   "source": [
    "songs_data_train_nn, songs_data_test_nn, songs_target_train_nn, songs_target_test_nn = train_test_split(songs_data_non_normalized, songs_target, test_size=0.3, random_state=0)\n",
    "songs_data_test_nn, songs_data_val_nn, songs_target_test_nn, songs_target_val_nn = train_test_split(songs_data_test_nn, songs_target_test_nn, test_size=0.5, random_state=0)"
   ]
  },
  {
   "cell_type": "code",
   "execution_count": 16,
   "metadata": {},
   "outputs": [
    {
     "name": "stderr",
     "output_type": "stream",
     "text": [
      "100%|██████████| 34/34 [00:06<00:00,  5.01it/s]\n"
     ]
    },
    {
     "data": {
      "text/html": [
       "<div>\n",
       "<style scoped>\n",
       "    .dataframe tbody tr th:only-of-type {\n",
       "        vertical-align: middle;\n",
       "    }\n",
       "\n",
       "    .dataframe tbody tr th {\n",
       "        vertical-align: top;\n",
       "    }\n",
       "\n",
       "    .dataframe thead th {\n",
       "        text-align: right;\n",
       "    }\n",
       "</style>\n",
       "<table border=\"1\" class=\"dataframe\">\n",
       "  <thead>\n",
       "    <tr style=\"text-align: right;\">\n",
       "      <th></th>\n",
       "      <th>k</th>\n",
       "      <th>accuracy</th>\n",
       "    </tr>\n",
       "  </thead>\n",
       "  <tbody>\n",
       "    <tr>\n",
       "      <th>0</th>\n",
       "      <td>1</td>\n",
       "      <td>0.290171</td>\n",
       "    </tr>\n",
       "  </tbody>\n",
       "</table>\n",
       "</div>"
      ],
      "text/plain": [
       "   k  accuracy\n",
       "0  1  0.290171"
      ]
     },
     "execution_count": 16,
     "metadata": {},
     "output_type": "execute_result"
    }
   ],
   "source": [
    "results = []\n",
    "for k in tqdm(np.arange(1,35)):\n",
    "    knn_model = KNeighborsClassifier(n_neighbors=k)\n",
    "    knn_model.fit(songs_data_train_nn, songs_target_train_nn)\n",
    "\n",
    "    y_pred = knn_model.predict(songs_data_val_nn)\n",
    "    accuracy = accuracy_score(songs_target_val_nn, y_pred)\n",
    "    results.append({'k':k, 'accuracy': accuracy})\n",
    "                   \n",
    "results_df = pd.DataFrame(results)\n",
    "results_df.loc[results_df['accuracy']==results_df['accuracy'].max()]"
   ]
  },
  {
   "cell_type": "code",
   "execution_count": 49,
   "metadata": {},
   "outputs": [
    {
     "name": "stdout",
     "output_type": "stream",
     "text": [
      "0.2888240574506284\n"
     ]
    }
   ],
   "source": [
    "# accuracy on test set\n",
    "knn_model = KNeighborsClassifier(n_neighbors=1)\n",
    "knn_model.fit(songs_data_train_nn, songs_target_train_nn)\n",
    "y_pred = knn_model.predict(songs_data_test_nn)\n",
    "accuracy = accuracy_score(songs_target_test_nn, y_pred)\n",
    "print(accuracy)"
   ]
  },
  {
   "cell_type": "markdown",
   "metadata": {},
   "source": [
    "As we see, results for not normalized data are much worse."
   ]
  },
  {
   "cell_type": "markdown",
   "metadata": {},
   "source": [
    "## Naive bayes classifier"
   ]
  },
  {
   "cell_type": "code",
   "execution_count": 18,
   "metadata": {},
   "outputs": [
    {
     "name": "stdout",
     "output_type": "stream",
     "text": [
      "0.4506283662477558\n"
     ]
    }
   ],
   "source": [
    "# Naive bayes classifier\n",
    "naive_bayes_model = GaussianNB()\n",
    "\n",
    "naive_bayes_model.fit(songs_data_train, songs_target_train)\n",
    "y_pred = naive_bayes_model.predict(songs_data_val)\n",
    "accuracy = accuracy_score(songs_target_val, y_pred)\n",
    "\n",
    "print(accuracy)"
   ]
  },
  {
   "cell_type": "code",
   "execution_count": 19,
   "metadata": {},
   "outputs": [
    {
     "name": "stdout",
     "output_type": "stream",
     "text": [
      "0.44350718783414517\n"
     ]
    }
   ],
   "source": [
    "# accuracy on test set\n",
    "naive_bayes_model = GaussianNB()\n",
    "\n",
    "naive_bayes_model.fit(songs_data_train2, songs_target_train2)\n",
    "y_pred = naive_bayes_model.predict(songs_data_test2)\n",
    "accuracy = accuracy_score(songs_target_test2, y_pred)\n",
    "\n",
    "print(accuracy)"
   ]
  },
  {
   "cell_type": "markdown",
   "metadata": {},
   "source": [
    "Each feature has the same influence on the decision."
   ]
  },
  {
   "cell_type": "markdown",
   "metadata": {},
   "source": [
    "## Decision tree"
   ]
  },
  {
   "cell_type": "code",
   "execution_count": 20,
   "metadata": {},
   "outputs": [
    {
     "name": "stdout",
     "output_type": "stream",
     "text": [
      "Best params: {'max_depth': 9, 'min_samples_leaf': 4, 'min_samples_split': 6}\n",
      "0.4643177737881508\n"
     ]
    }
   ],
   "source": [
    "# Decision tree\n",
    "decision_tree_model = DecisionTreeClassifier()\n",
    "\n",
    "param_grid = {\n",
    "    'max_depth': [7,9,11],\n",
    "    'min_samples_leaf': [3,4,5],\n",
    "    'min_samples_split': [6,7,8]\n",
    "}\n",
    "\n",
    "grid_search = GridSearchCV(decision_tree_model, param_grid, cv=5, scoring='accuracy')\n",
    "grid_search.fit(songs_data_train, songs_target_train)\n",
    "best_params = grid_search.best_params_\n",
    "best_model = grid_search.best_estimator_\n",
    "print(\"Best params:\", best_params)\n",
    "\n",
    "y_pred = best_model.predict(songs_data_val)\n",
    "accuracy = accuracy_score(songs_target_val, y_pred)\n",
    "print(accuracy)"
   ]
  },
  {
   "cell_type": "code",
   "execution_count": 21,
   "metadata": {},
   "outputs": [
    {
     "data": {
      "text/plain": [
       "array([0.17231034, 0.08777891, 0.00565915, 0.07505336, 0.00211726,\n",
       "       0.19339656, 0.05211473, 0.09632431, 0.00705703, 0.06262628,\n",
       "       0.17007464, 0.07548741])"
      ]
     },
     "execution_count": 21,
     "metadata": {},
     "output_type": "execute_result"
    }
   ],
   "source": [
    "# feature importances\n",
    "best_model.feature_importances_"
   ]
  },
  {
   "cell_type": "code",
   "execution_count": 22,
   "metadata": {},
   "outputs": [
    {
     "data": {
      "text/plain": [
       "danceability        0.172310\n",
       "energy              0.087779\n",
       "key                 0.005659\n",
       "loudness            0.075053\n",
       "mode                0.002117\n",
       "speechiness         0.193397\n",
       "acousticness        0.052115\n",
       "instrumentalness    0.096324\n",
       "liveness            0.007057\n",
       "valence             0.062626\n",
       "tempo               0.170075\n",
       "duration_ms         0.075487\n",
       "dtype: float64"
      ]
     },
     "execution_count": 22,
     "metadata": {},
     "output_type": "execute_result"
    }
   ],
   "source": [
    "feature_importances_dt = pd.Series(best_model.feature_importances_, index=songs_data_train.columns)\n",
    "feature_importances_dt"
   ]
  },
  {
   "cell_type": "code",
   "execution_count": 23,
   "metadata": {},
   "outputs": [
    {
     "data": {
      "image/png": "[encoded data removed]",
      "text/plain": [
       "<Figure size 640x480 with 1 Axes>"
      ]
     },
     "metadata": {},
     "output_type": "display_data"
    }
   ],
   "source": [
    "fig, ax = plt.subplots()\n",
    "feature_importances_dt.plot.bar(ax=ax)\n",
    "ax.set_title(\"Feature importances - decision tree\")\n",
    "fig.tight_layout()"
   ]
  },
  {
   "cell_type": "markdown",
   "metadata": {},
   "source": [
    "## Random forest"
   ]
  },
  {
   "cell_type": "code",
   "execution_count": 24,
   "metadata": {},
   "outputs": [
    {
     "name": "stdout",
     "output_type": "stream",
     "text": [
      "0.547576301615799\n"
     ]
    }
   ],
   "source": [
    "# Random forest\n",
    "random_forest_model = RandomForestClassifier(n_estimators=105, random_state=42)\n",
    "random_forest_model.fit(songs_data_train, songs_target_train)\n",
    "y_pred = random_forest_model.predict(songs_data_val)\n",
    "accuracy = accuracy_score(songs_target_val, y_pred)\n",
    "print(accuracy)\n",
    "\n",
    "# hyperparameter tunning???"
   ]
  },
  {
   "cell_type": "code",
   "execution_count": 25,
   "metadata": {},
   "outputs": [
    {
     "data": {
      "text/plain": [
       "array([0.11707867, 0.09406571, 0.04441596, 0.08675772, 0.01335281,\n",
       "       0.12172192, 0.08929889, 0.07396318, 0.06634473, 0.08991702,\n",
       "       0.1127258 , 0.09035759])"
      ]
     },
     "execution_count": 25,
     "metadata": {},
     "output_type": "execute_result"
    }
   ],
   "source": [
    "# feature importances\n",
    "random_forest_model.feature_importances_"
   ]
  },
  {
   "cell_type": "code",
   "execution_count": 26,
   "metadata": {},
   "outputs": [
    {
     "data": {
      "text/plain": [
       "danceability        0.117079\n",
       "energy              0.094066\n",
       "key                 0.044416\n",
       "loudness            0.086758\n",
       "mode                0.013353\n",
       "speechiness         0.121722\n",
       "acousticness        0.089299\n",
       "instrumentalness    0.073963\n",
       "liveness            0.066345\n",
       "valence             0.089917\n",
       "tempo               0.112726\n",
       "duration_ms         0.090358\n",
       "dtype: float64"
      ]
     },
     "execution_count": 26,
     "metadata": {},
     "output_type": "execute_result"
    }
   ],
   "source": [
    "feature_importances_rf = pd.Series(random_forest_model.feature_importances_, index=songs_data_train.columns)\n",
    "feature_importances_rf"
   ]
  },
  {
   "cell_type": "code",
   "execution_count": 27,
   "metadata": {},
   "outputs": [
    {
     "data": {
      "image/png": "[encoded data removed]",
      "text/plain": [
       "<Figure size 640x480 with 1 Axes>"
      ]
     },
     "metadata": {},
     "output_type": "display_data"
    }
   ],
   "source": [
    "fig, ax = plt.subplots()\n",
    "feature_importances_rf.plot.bar(ax=ax)\n",
    "ax.set_title(\"Feature importances - random forest\")\n",
    "fig.tight_layout()"
   ]
  },
  {
   "cell_type": "markdown",
   "metadata": {},
   "source": [
    "## KNN on important features\n",
    "\n",
    "Let's try to consider only the features with high `feature importance` in both random forest and decision trees and use them for the KNN classifier"
   ]
  },
  {
   "cell_type": "code",
   "execution_count": 28,
   "metadata": {},
   "outputs": [
    {
     "name": "stdout",
     "output_type": "stream",
     "text": [
      "speechiness         0.315118\n",
      "danceability        0.289389\n",
      "tempo               0.282800\n",
      "energy              0.181845\n",
      "instrumentalness    0.170287\n",
      "duration_ms         0.165845\n",
      "loudness            0.161811\n",
      "valence             0.152543\n",
      "acousticness        0.141414\n",
      "liveness            0.073402\n",
      "key                 0.050075\n",
      "mode                0.015470\n",
      "dtype: float64\n"
     ]
    }
   ],
   "source": [
    "feature_importances = feature_importances_dt + feature_importances_rf\n",
    "print(feature_importances.sort_values(ascending=False))"
   ]
  },
  {
   "cell_type": "code",
   "execution_count": 39,
   "metadata": {},
   "outputs": [
    {
     "name": "stderr",
     "output_type": "stream",
     "text": [
      "100%|██████████| 11/11 [16:06<00:00, 87.89s/it] \n"
     ]
    }
   ],
   "source": [
    "res = []\n",
    "for n_features in tqdm(np.arange(1, len(feature_importances))):\n",
    "    important_columns = feature_importances.sort_values(ascending=False).index[:n_features]\n",
    "    important_data = songs_data[important_columns]\n",
    "    important_data_train, important_data_test, important_target_train, important_target_test = train_test_split(important_data, songs_target, test_size=0.15, random_state=0)\n",
    "    # cross validation\n",
    "    for k in np.arange(1,40):\n",
    "        knn_model = KNeighborsClassifier(n_neighbors=k)\n",
    "        er = cross_val_score(knn_model,important_data_train,important_target_train,cv=5)\n",
    "        res.append({'n_feat': n_features, 'K':k, 'err_rate': er.mean()})\n"
   ]
  },
  {
   "cell_type": "code",
   "execution_count": 41,
   "metadata": {},
   "outputs": [
    {
     "data": {
      "text/html": [
       "<div>\n",
       "<style scoped>\n",
       "    .dataframe tbody tr th:only-of-type {\n",
       "        vertical-align: middle;\n",
       "    }\n",
       "\n",
       "    .dataframe tbody tr th {\n",
       "        vertical-align: top;\n",
       "    }\n",
       "\n",
       "    .dataframe thead th {\n",
       "        text-align: right;\n",
       "    }\n",
       "</style>\n",
       "<table border=\"1\" class=\"dataframe\">\n",
       "  <thead>\n",
       "    <tr style=\"text-align: right;\">\n",
       "      <th></th>\n",
       "      <th>n_feat</th>\n",
       "      <th>K</th>\n",
       "      <th>err_rate</th>\n",
       "    </tr>\n",
       "  </thead>\n",
       "  <tbody>\n",
       "    <tr>\n",
       "      <th>0</th>\n",
       "      <td>9</td>\n",
       "      <td>32</td>\n",
       "      <td>0.501109</td>\n",
       "    </tr>\n",
       "    <tr>\n",
       "      <th>1</th>\n",
       "      <td>8</td>\n",
       "      <td>38</td>\n",
       "      <td>0.499446</td>\n",
       "    </tr>\n",
       "    <tr>\n",
       "      <th>2</th>\n",
       "      <td>10</td>\n",
       "      <td>30</td>\n",
       "      <td>0.495129</td>\n",
       "    </tr>\n",
       "    <tr>\n",
       "      <th>3</th>\n",
       "      <td>7</td>\n",
       "      <td>33</td>\n",
       "      <td>0.486812</td>\n",
       "    </tr>\n",
       "    <tr>\n",
       "      <th>4</th>\n",
       "      <td>11</td>\n",
       "      <td>38</td>\n",
       "      <td>0.472356</td>\n",
       "    </tr>\n",
       "    <tr>\n",
       "      <th>5</th>\n",
       "      <td>6</td>\n",
       "      <td>33</td>\n",
       "      <td>0.472317</td>\n",
       "    </tr>\n",
       "    <tr>\n",
       "      <th>6</th>\n",
       "      <td>5</td>\n",
       "      <td>23</td>\n",
       "      <td>0.458059</td>\n",
       "    </tr>\n",
       "    <tr>\n",
       "      <th>7</th>\n",
       "      <td>4</td>\n",
       "      <td>27</td>\n",
       "      <td>0.447208</td>\n",
       "    </tr>\n",
       "    <tr>\n",
       "      <th>8</th>\n",
       "      <td>3</td>\n",
       "      <td>36</td>\n",
       "      <td>0.423525</td>\n",
       "    </tr>\n",
       "    <tr>\n",
       "      <th>9</th>\n",
       "      <td>2</td>\n",
       "      <td>35</td>\n",
       "      <td>0.344317</td>\n",
       "    </tr>\n",
       "    <tr>\n",
       "      <th>10</th>\n",
       "      <td>1</td>\n",
       "      <td>36</td>\n",
       "      <td>0.275604</td>\n",
       "    </tr>\n",
       "  </tbody>\n",
       "</table>\n",
       "</div>"
      ],
      "text/plain": [
       "    n_feat   K  err_rate\n",
       "0        9  32  0.501109\n",
       "1        8  38  0.499446\n",
       "2       10  30  0.495129\n",
       "3        7  33  0.486812\n",
       "4       11  38  0.472356\n",
       "5        6  33  0.472317\n",
       "6        5  23  0.458059\n",
       "7        4  27  0.447208\n",
       "8        3  36  0.423525\n",
       "9        2  35  0.344317\n",
       "10       1  36  0.275604"
      ]
     },
     "execution_count": 41,
     "metadata": {},
     "output_type": "execute_result"
    }
   ],
   "source": [
    "# find best k for each number of features\n",
    "results_df = pd.DataFrame(res)\n",
    "results_df = results_df.sort_values('err_rate', ascending=False)\n",
    "results_df = results_df.groupby('n_feat').head(1)\n",
    "results_df = results_df.reset_index(drop=True)\n",
    "results_df"
   ]
  },
  {
   "cell_type": "code",
   "execution_count": 42,
   "metadata": {},
   "outputs": [
    {
     "name": "stdout",
     "output_type": "stream",
     "text": [
      "0.503525641025641\n"
     ]
    }
   ],
   "source": [
    "important_columns = feature_importances.sort_values(ascending=False).index[:9]\n",
    "important_data = songs_data_train[important_columns]\n",
    "important_data_train, important_data_test, important_target_train, important_target_test = train_test_split(important_data, songs_target_train, test_size=0.15, random_state=0)\n",
    "\n",
    "knn_model = KNeighborsClassifier(n_neighbors=32)\n",
    "knn_model.fit(important_data_train, important_target_train)\n",
    "y_pred = knn_model.predict(important_data_test)\n",
    "accuracy = accuracy_score(important_target_test, y_pred)\n",
    "print(accuracy)"
   ]
  },
  {
   "cell_type": "markdown",
   "metadata": {},
   "source": [
    "## Support Vector Machine"
   ]
  },
  {
   "cell_type": "code",
   "execution_count": 43,
   "metadata": {},
   "outputs": [
    {
     "name": "stdout",
     "output_type": "stream",
     "text": [
      "0.5175044883303411\n"
     ]
    }
   ],
   "source": [
    "# Support Vector Machine\n",
    "clf = svm.SVC(decision_function_shape='ovr', kernel='poly', degree=4)\n",
    "clf.fit(songs_data_train, songs_target_train)\n",
    "y_pred = clf.predict(songs_data_val)\n",
    "\n",
    "accuracy = accuracy_score(songs_target_val, y_pred)\n",
    "print(accuracy)"
   ]
  },
  {
   "cell_type": "markdown",
   "metadata": {},
   "source": [
    "## Multiclass Logistic Regression"
   ]
  },
  {
   "cell_type": "code",
   "execution_count": 44,
   "metadata": {},
   "outputs": [
    {
     "name": "stdout",
     "output_type": "stream",
     "text": [
      "0.4762118491921005\n"
     ]
    }
   ],
   "source": [
    "mlr = LogisticRegression(random_state=0, solver='lbfgs', multi_class='multinomial', max_iter=1000)\n",
    "mlr.fit(songs_data_train, songs_target_train)\n",
    "y_pred = mlr.predict(songs_data_val)\n",
    "\n",
    "accuracy = accuracy_score(songs_target_val, y_pred)\n",
    "print(accuracy)"
   ]
  },
  {
   "cell_type": "markdown",
   "metadata": {},
   "source": [
    "## AdaBoost\n"
   ]
  },
  {
   "cell_type": "code",
   "execution_count": 45,
   "metadata": {},
   "outputs": [
    {
     "name": "stdout",
     "output_type": "stream",
     "text": [
      "0.4903500897666068\n"
     ]
    }
   ],
   "source": [
    "# AdaBoost\n",
    "base_model = DecisionTreeClassifier(max_depth=1)\n",
    "adaboost_model = AdaBoostClassifier(base_model, n_estimators=50, learning_rate=1, random_state=42)\n",
    "adaboost_model.fit(songs_data_train, songs_target_train)\n",
    "y_pred = adaboost_model.predict(songs_data_val)\n",
    "\n",
    "\n",
    "accuracy = accuracy_score(songs_target_val, y_pred)\n",
    "print(accuracy)"
   ]
  },
  {
   "cell_type": "markdown",
   "metadata": {},
   "source": [
    "## Bootstrap Aggregating"
   ]
  },
  {
   "cell_type": "code",
   "execution_count": 46,
   "metadata": {},
   "outputs": [
    {
     "name": "stdout",
     "output_type": "stream",
     "text": [
      "0.5412926391382405\n"
     ]
    }
   ],
   "source": [
    "#Bagging (Bootstrap Aggregating)\n",
    "base_model = DecisionTreeClassifier()\n",
    "bagging_model = BaggingClassifier(base_model, n_estimators=50, random_state=42)\n",
    "bagging_model.fit(songs_data_train, songs_target_train)\n",
    "y_pred = bagging_model.predict(songs_data_val)\n",
    "\n",
    "accuracy = accuracy_score(songs_target_val, y_pred)\n",
    "print(accuracy)"
   ]
  },
  {
   "cell_type": "markdown",
   "metadata": {},
   "source": [
    "#### Extra models\n",
    "Gradient Boosting\n",
    "\n",
    "XGBoost\n",
    "\n",
    "AdaBoost\n",
    "\n",
    "Multiclass logistic regression"
   ]
  }
 ],
 "metadata": {
  "kernelspec": {
   "display_name": "Python 3 (ipykernel)",
   "language": "python",
   "name": "python3"
  },
  "language_info": {
   "codemirror_mode": {
    "name": "ipython",
    "version": 3
   },
   "file_extension": ".py",
   "mimetype": "text/x-python",
   "name": "python",
   "nbconvert_exporter": "python",
   "pygments_lexer": "ipython3",
   "version": "3.11.6"
  }
 },
 "nbformat": 4,
 "nbformat_minor": 2
}
